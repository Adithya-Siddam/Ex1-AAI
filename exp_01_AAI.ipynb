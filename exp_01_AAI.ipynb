{
  "cells": [
    {
      "cell_type": "markdown",
      "metadata": {
        "id": "view-in-github",
        "colab_type": "text"
      },
      "source": [
        "<a href=\"https://colab.research.google.com/github/Adithya-Siddam/Ex1-AAI/blob/main/exp_01_AAI.ipynb\" target=\"_parent\"><img src=\"https://colab.research.google.com/assets/colab-badge.svg\" alt=\"Open In Colab\"/></a>"
      ]
    },
    {
      "cell_type": "code",
      "source": [
        "pip install pybbn\n"
      ],
      "metadata": {
        "colab": {
          "base_uri": "https://localhost:8080/"
        },
        "id": "J1iDfaMhj35C",
        "outputId": "ff76e013-5cc5-4e58-f54c-09c3538b2873"
      },
      "execution_count": 2,
      "outputs": [
        {
          "output_type": "stream",
          "name": "stdout",
          "text": [
            "Collecting pybbn\n",
            "  Downloading pybbn-3.2.3.tar.gz (36 kB)\n",
            "  Preparing metadata (setup.py) ... \u001b[?25l\u001b[?25hdone\n",
            "Requirement already satisfied: numpy in /usr/local/lib/python3.10/dist-packages (from pybbn) (1.25.2)\n",
            "Requirement already satisfied: scipy in /usr/local/lib/python3.10/dist-packages (from pybbn) (1.11.4)\n",
            "Requirement already satisfied: networkx in /usr/local/lib/python3.10/dist-packages (from pybbn) (3.2.1)\n",
            "Requirement already satisfied: pandas in /usr/local/lib/python3.10/dist-packages (from pybbn) (1.5.3)\n",
            "Requirement already satisfied: python-dateutil>=2.8.1 in /usr/local/lib/python3.10/dist-packages (from pandas->pybbn) (2.8.2)\n",
            "Requirement already satisfied: pytz>=2020.1 in /usr/local/lib/python3.10/dist-packages (from pandas->pybbn) (2023.4)\n",
            "Requirement already satisfied: six>=1.5 in /usr/local/lib/python3.10/dist-packages (from python-dateutil>=2.8.1->pandas->pybbn) (1.16.0)\n",
            "Building wheels for collected packages: pybbn\n",
            "  Building wheel for pybbn (setup.py) ... \u001b[?25l\u001b[?25hdone\n",
            "  Created wheel for pybbn: filename=pybbn-3.2.3-py3-none-any.whl size=40373 sha256=d0a7c6423ee471a44dd14c0f7f239ba0a084d0c774c9c23908b1015478275bd9\n",
            "  Stored in directory: /root/.cache/pip/wheels/a7/6f/f1/ec7566a4882ab5c796fb43dfd84062769f75ba5381ca60d2b6\n",
            "Successfully built pybbn\n",
            "Installing collected packages: pybbn\n",
            "Successfully installed pybbn-3.2.3\n"
          ]
        }
      ]
    },
    {
      "cell_type": "code",
      "source": [
        "import pandas as pd\n",
        "import networkx as nx\n",
        "import matplotlib.pyplot as plt\n"
      ],
      "metadata": {
        "id": "0Sg6o5hHkDAS"
      },
      "execution_count": 4,
      "outputs": []
    },
    {
      "cell_type": "code",
      "source": [
        "# for creating Bayesian Belief Networks (BBN)\n",
        "from pybbn.graph.dag import Bbn\n",
        "from pybbn.graph.edge import Edge, EdgeType\n",
        "from pybbn.graph.jointree import EvidenceBuilder\n",
        "from pybbn.graph.node import BbnNode\n",
        "from pybbn.graph.variable import Variable\n",
        "from pybbn.pptc.inferencecontroller import InferenceController\n"
      ],
      "metadata": {
        "id": "D5pGZJjjj-CU"
      },
      "execution_count": 5,
      "outputs": []
    },
    {
      "cell_type": "code",
      "source": [
        "#Set Pandas options to display more columns\n",
        "pd.options.display.max_columns=50\n",
        "\n",
        "df=pd.read_csv('weatherAUS.csv',encoding='utf-8')\n",
        "print(df)\n",
        "df=df[pd.isnull(df['RainTomorrow'])==False]\n"
      ],
      "metadata": {
        "colab": {
          "base_uri": "https://localhost:8080/"
        },
        "id": "xUHoiczgklmI",
        "outputId": "42754f5a-e7e7-4859-ca6f-6086a9188751"
      },
      "execution_count": 7,
      "outputs": [
        {
          "output_type": "stream",
          "name": "stdout",
          "text": [
            "              Date Location  MinTemp  MaxTemp  Rainfall  Evaporation  \\\n",
            "0       2008-12-01   Albury     13.4     22.9       0.6          NaN   \n",
            "1       2008-12-02   Albury      7.4     25.1       0.0          NaN   \n",
            "2       2008-12-03   Albury     12.9     25.7       0.0          NaN   \n",
            "3       2008-12-04   Albury      9.2     28.0       0.0          NaN   \n",
            "4       2008-12-05   Albury     17.5     32.3       1.0          NaN   \n",
            "...            ...      ...      ...      ...       ...          ...   \n",
            "145455  2017-06-21    Uluru      2.8     23.4       0.0          NaN   \n",
            "145456  2017-06-22    Uluru      3.6     25.3       0.0          NaN   \n",
            "145457  2017-06-23    Uluru      5.4     26.9       0.0          NaN   \n",
            "145458  2017-06-24    Uluru      7.8     27.0       0.0          NaN   \n",
            "145459  2017-06-25    Uluru     14.9      NaN       0.0          NaN   \n",
            "\n",
            "        Sunshine WindGustDir  WindGustSpeed WindDir9am WindDir3pm  \\\n",
            "0            NaN           W           44.0          W        WNW   \n",
            "1            NaN         WNW           44.0        NNW        WSW   \n",
            "2            NaN         WSW           46.0          W        WSW   \n",
            "3            NaN          NE           24.0         SE          E   \n",
            "4            NaN           W           41.0        ENE         NW   \n",
            "...          ...         ...            ...        ...        ...   \n",
            "145455       NaN           E           31.0         SE        ENE   \n",
            "145456       NaN         NNW           22.0         SE          N   \n",
            "145457       NaN           N           37.0         SE        WNW   \n",
            "145458       NaN          SE           28.0        SSE          N   \n",
            "145459       NaN         NaN            NaN        ESE        ESE   \n",
            "\n",
            "        WindSpeed9am  WindSpeed3pm  Humidity9am  Humidity3pm  Pressure9am  \\\n",
            "0               20.0          24.0         71.0         22.0       1007.7   \n",
            "1                4.0          22.0         44.0         25.0       1010.6   \n",
            "2               19.0          26.0         38.0         30.0       1007.6   \n",
            "3               11.0           9.0         45.0         16.0       1017.6   \n",
            "4                7.0          20.0         82.0         33.0       1010.8   \n",
            "...              ...           ...          ...          ...          ...   \n",
            "145455          13.0          11.0         51.0         24.0       1024.6   \n",
            "145456          13.0           9.0         56.0         21.0       1023.5   \n",
            "145457           9.0           9.0         53.0         24.0       1021.0   \n",
            "145458          13.0           7.0         51.0         24.0       1019.4   \n",
            "145459          17.0          17.0         62.0         36.0       1020.2   \n",
            "\n",
            "        Pressure3pm  Cloud9am  Cloud3pm  Temp9am  Temp3pm RainToday  \\\n",
            "0            1007.1       8.0       NaN     16.9     21.8        No   \n",
            "1            1007.8       NaN       NaN     17.2     24.3        No   \n",
            "2            1008.7       NaN       2.0     21.0     23.2        No   \n",
            "3            1012.8       NaN       NaN     18.1     26.5        No   \n",
            "4            1006.0       7.0       8.0     17.8     29.7        No   \n",
            "...             ...       ...       ...      ...      ...       ...   \n",
            "145455       1020.3       NaN       NaN     10.1     22.4        No   \n",
            "145456       1019.1       NaN       NaN     10.9     24.5        No   \n",
            "145457       1016.8       NaN       NaN     12.5     26.1        No   \n",
            "145458       1016.5       3.0       2.0     15.1     26.0        No   \n",
            "145459       1017.9       8.0       8.0     15.0     20.9        No   \n",
            "\n",
            "       RainTomorrow  \n",
            "0                No  \n",
            "1                No  \n",
            "2                No  \n",
            "3                No  \n",
            "4                No  \n",
            "...             ...  \n",
            "145455           No  \n",
            "145456           No  \n",
            "145457           No  \n",
            "145458           No  \n",
            "145459          NaN  \n",
            "\n",
            "[145460 rows x 23 columns]\n"
          ]
        }
      ]
    },
    {
      "cell_type": "code",
      "source": [
        "# Fill missing values with the mean of numeric columns\n",
        "numeric_columns = df.select_dtypes(include='number').columns\n",
        "df[numeric_columns] = df[numeric_columns].fillna(df[numeric_columns].mean())\n",
        "df['WindGustSpeedCat']=df['WindGustSpeed'].apply(lambda x: '0.<=40'   if x<=40 else '1.40-50' if 40<x<=50 else '2.>50')\n",
        "df['Humidity9amCat']=df['Humidity9am'].apply(lambda x: '1.>60' if x>60 else '0.<=60')\n",
        "df['Humidity3pmCat']=df['Humidity3pm'].apply(lambda x: '1.>60' if x>60 else '0.<=60')\n",
        "\n"
      ],
      "metadata": {
        "id": "Wd7sqIwbl59D"
      },
      "execution_count": 9,
      "outputs": []
    },
    {
      "cell_type": "code",
      "source": [
        "def probs(data, child, parent1=None, parent2=None):\n",
        "    if parent1==None:\n",
        "        # Calculate probabilities\n",
        "        prob=pd.crosstab(data[child], 'Empty', margins=False, normalize='columns').sort_index().to_numpy().reshape(-1).tolist()\n",
        "    elif parent1!=None:\n",
        "            # Check if child node has 1 parent or 2 parents\n",
        "            if parent2==None:\n",
        "                # Caclucate probabilities\n",
        "                prob=pd.crosstab(data[parent1],data[child], margins=False, normalize='index').sort_index().to_numpy().reshape(-1).tolist()\n",
        "            else:\n",
        "                # Caclucate probabilities\n",
        "                prob=pd.crosstab([data[parent1],data[parent2]],data[child], margins=False, normalize='index').sort_index().to_numpy().reshape(-1).tolist()\n",
        "    else: print(\"Error in Probability Frequency Calculations\")\n",
        "    return prob\n",
        "\n"
      ],
      "metadata": {
        "id": "kFmnUSLAmFe5"
      },
      "execution_count": 10,
      "outputs": []
    },
    {
      "cell_type": "code",
      "source": [
        "H9am = BbnNode(Variable(0, 'H9am', ['<=60', '>60']), probs(df, child='Humidity9amCat'))\n",
        "H3pm = BbnNode(Variable(1, 'H3pm', ['<=60', '>60']), probs(df, child='Humidity3pmCat', parent1='Humidity9amCat'))\n",
        "W = BbnNode(Variable(2, 'W', ['<=40', '40-50', '>50']), probs(df, child='WindGustSpeedCat'))\n",
        "RT = BbnNode(Variable(3, 'RT', ['No', 'Yes']), probs(df, child='RainTomorrow', parent1='Humidity3pmCat', parent2='WindGustSpeedCat'))\n",
        "\n"
      ],
      "metadata": {
        "id": "J0c1qnjBmOpP"
      },
      "execution_count": 11,
      "outputs": []
    },
    {
      "cell_type": "code",
      "source": [
        "bbn = Bbn() \\\n",
        "    .add_node(H9am) \\\n",
        "    .add_node(H3pm) \\\n",
        "    .add_node(W) \\\n",
        "    .add_node(RT) \\\n",
        "    .add_edge(Edge(H9am, H3pm, EdgeType.DIRECTED)) \\\n",
        "    .add_edge(Edge(H3pm, RT, EdgeType.DIRECTED)) \\\n",
        "    .add_edge(Edge(W, RT, EdgeType.DIRECTED))\n",
        "\n"
      ],
      "metadata": {
        "id": "lTcIC6rymTUX"
      },
      "execution_count": 30,
      "outputs": []
    },
    {
      "cell_type": "code",
      "source": [
        "join_tree = InferenceController.apply(bbn)\n",
        "pos={1: (-1,0), 0: (-1, 0.5), 2: (1, 0), 3:(0,-0.5)}\n",
        "\n"
      ],
      "metadata": {
        "id": "Ppk-XqCLmWEj"
      },
      "execution_count": 32,
      "outputs": []
    },
    {
      "cell_type": "code",
      "source": [
        "options = {\n",
        "    \"font_size\": 16,\n",
        "    \"node_size\": 4000,\n",
        "    \"node_color\": \"white\",\n",
        "    \"edgecolors\": \"black\",\n",
        "    \"edge_color\": \"black\",\n",
        "    \"linewidths\": 5,\n",
        "    \"width\": 5,}\n",
        "\n",
        "n, d = bbn.to_nx_graph()\n",
        "nx.draw(n, with_labels=True, labels=d, pos=pos, **options)\n",
        "\n",
        "ax = plt.gca()\n",
        "ax.margins(0.10)\n",
        "plt.axis(\"off\")\n",
        "plt.show()"
      ],
      "metadata": {
        "colab": {
          "base_uri": "https://localhost:8080/",
          "height": 516
        },
        "id": "QZVd4j8EmZ1K",
        "outputId": "9eba97af-3d3c-409c-b90a-243f2fd0d1de"
      },
      "execution_count": 35,
      "outputs": [
        {
          "output_type": "display_data",
          "data": {
            "text/plain": [
              "<Figure size 640x480 with 1 Axes>"
            ],
            "image/png": "[encoded data removed]"
          },
          "metadata": {}
        }
      ]
    }
  ],
  "metadata": {
    "colab": {
      "provenance": [],
      "authorship_tag": "ABX9TyOt85YSouATh5Mvh3Sm/gg9",
      "include_colab_link": true
    },
    "kernelspec": {
      "display_name": "Python 3",
      "name": "python3"
    },
    "language_info": {
      "name": "python"
    }
  },
  "nbformat": 4,
  "nbformat_minor": 0
}